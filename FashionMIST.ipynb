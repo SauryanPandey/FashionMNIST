{
  "metadata": {
    "colab": {
      "provenance": [],
      "include_colab_link": true
    },
    "kernelspec": {
      "name": "python3",
      "display_name": "Python 3"
    },
    "language_info": {
      "name": "python"
    }
  },
  "nbformat_minor": 0,
  "nbformat": 4,
  "cells": [
    {
      "cell_type": "markdown",
      "metadata": {
        "id": "view-in-github",
        "colab_type": "text"
      },
      "source": [
        "<a href=\"https://colab.research.google.com/github/SauryanPandey/FashionMNIST/blob/main/FashionMIST.ipynb\" target=\"_parent\"><img src=\"https://colab.research.google.com/assets/colab-badge.svg\" alt=\"Open In Colab\"/></a>"
      ]
    },
    {
      "cell_type": "code",
      "source": [
        "import torch\n",
        "from torch import nn\n",
        "from torch.utils.data import DataLoader\n",
        "from torchvision import datasets\n",
        "from torchvision.transforms import ToTensor\n",
        "import numpy as np\n",
        "import pandas as pd\n",
        "import matplotlib.pyplot as plt\n",
        "import seaborn as sns"
      ],
      "metadata": {
        "id": "_G9KBADFpQYF",
        "execution": {
          "iopub.status.busy": "2023-06-30T07:55:14.196267Z",
          "iopub.execute_input": "2023-06-30T07:55:14.196668Z",
          "iopub.status.idle": "2023-06-30T07:55:16.227871Z",
          "shell.execute_reply.started": "2023-06-30T07:55:14.196633Z",
          "shell.execute_reply": "2023-06-30T07:55:16.226866Z"
        },
        "trusted": true
      },
      "execution_count": null,
      "outputs": []
    },
    {
      "cell_type": "code",
      "source": [
        "training_data = datasets.FashionMNIST(root = \"\", train = True, download = True, transform = ToTensor())\n",
        "test_data = datasets.FashionMNIST(root = \"\", train = False, download = True, transform = ToTensor())"
      ],
      "metadata": {
        "id": "JPbNtcQZp28B",
        "colab": {
          "base_uri": "https://localhost:8080/",
          "referenced_widgets": [
            "e729deaaf27b4f4781c722bb718308d5",
            "5029fbdee88c4221b7290fbdf3b1dad6",
            "066a0cbed25149d797082966915655af",
            "77e5ffa062d54f2c9a358fbb8275ba05"
          ]
        },
        "outputId": "bc99411a-ce9b-4028-c4ff-5e84b6cef5f4",
        "execution": {
          "iopub.status.busy": "2023-06-30T07:55:18.744281Z",
          "iopub.execute_input": "2023-06-30T07:55:18.745854Z",
          "iopub.status.idle": "2023-06-30T07:55:24.450686Z",
          "shell.execute_reply.started": "2023-06-30T07:55:18.745802Z",
          "shell.execute_reply": "2023-06-30T07:55:24.448466Z"
        },
        "trusted": true
      },
      "execution_count": null,
      "outputs": [
        {
          "name": "stdout",
          "text": "Downloading http://fashion-mnist.s3-website.eu-central-1.amazonaws.com/train-images-idx3-ubyte.gz\nDownloading http://fashion-mnist.s3-website.eu-central-1.amazonaws.com/train-images-idx3-ubyte.gz to FashionMNIST/raw/train-images-idx3-ubyte.gz\n",
          "output_type": "stream"
        },
        {
          "output_type": "display_data",
          "data": {
            "text/plain": "  0%|          | 0/26421880 [00:00<?, ?it/s]",
            "application/vnd.jupyter.widget-view+json": {
              "version_major": 2,
              "version_minor": 0,
              "model_id": "e729deaaf27b4f4781c722bb718308d5"
            }
          },
          "metadata": {}
        },
        {
          "name": "stdout",
          "text": "Extracting FashionMNIST/raw/train-images-idx3-ubyte.gz to FashionMNIST/raw\n\nDownloading http://fashion-mnist.s3-website.eu-central-1.amazonaws.com/train-labels-idx1-ubyte.gz\nDownloading http://fashion-mnist.s3-website.eu-central-1.amazonaws.com/train-labels-idx1-ubyte.gz to FashionMNIST/raw/train-labels-idx1-ubyte.gz\n",
          "output_type": "stream"
        },
        {
          "output_type": "display_data",
          "data": {
            "text/plain": "  0%|          | 0/29515 [00:00<?, ?it/s]",
            "application/vnd.jupyter.widget-view+json": {
              "version_major": 2,
              "version_minor": 0,
              "model_id": "5029fbdee88c4221b7290fbdf3b1dad6"
            }
          },
          "metadata": {}
        },
        {
          "name": "stdout",
          "text": "Extracting FashionMNIST/raw/train-labels-idx1-ubyte.gz to FashionMNIST/raw\n\nDownloading http://fashion-mnist.s3-website.eu-central-1.amazonaws.com/t10k-images-idx3-ubyte.gz\nDownloading http://fashion-mnist.s3-website.eu-central-1.amazonaws.com/t10k-images-idx3-ubyte.gz to FashionMNIST/raw/t10k-images-idx3-ubyte.gz\n",
          "output_type": "stream"
        },
        {
          "output_type": "display_data",
          "data": {
            "text/plain": "  0%|          | 0/4422102 [00:00<?, ?it/s]",
            "application/vnd.jupyter.widget-view+json": {
              "version_major": 2,
              "version_minor": 0,
              "model_id": "066a0cbed25149d797082966915655af"
            }
          },
          "metadata": {}
        },
        {
          "name": "stdout",
          "text": "Extracting FashionMNIST/raw/t10k-images-idx3-ubyte.gz to FashionMNIST/raw\n\nDownloading http://fashion-mnist.s3-website.eu-central-1.amazonaws.com/t10k-labels-idx1-ubyte.gz\nDownloading http://fashion-mnist.s3-website.eu-central-1.amazonaws.com/t10k-labels-idx1-ubyte.gz to FashionMNIST/raw/t10k-labels-idx1-ubyte.gz\n",
          "output_type": "stream"
        },
        {
          "output_type": "display_data",
          "data": {
            "text/plain": "  0%|          | 0/5148 [00:00<?, ?it/s]",
            "application/vnd.jupyter.widget-view+json": {
              "version_major": 2,
              "version_minor": 0,
              "model_id": "77e5ffa062d54f2c9a358fbb8275ba05"
            }
          },
          "metadata": {}
        },
        {
          "name": "stdout",
          "text": "Extracting FashionMNIST/raw/t10k-labels-idx1-ubyte.gz to FashionMNIST/raw\n\n",
          "output_type": "stream"
        }
      ]
    },
    {
      "cell_type": "code",
      "source": [
        "batch_size = 64\n",
        "train_set = DataLoader(training_data, batch_size = batch_size, shuffle = True)\n",
        "test_set = DataLoader(test_data, batch_size, True)"
      ],
      "metadata": {
        "id": "tIY-AYMZqvYJ",
        "execution": {
          "iopub.status.busy": "2023-06-30T07:55:30.045574Z",
          "iopub.execute_input": "2023-06-30T07:55:30.046335Z",
          "iopub.status.idle": "2023-06-30T07:55:30.053913Z",
          "shell.execute_reply.started": "2023-06-30T07:55:30.046283Z",
          "shell.execute_reply": "2023-06-30T07:55:30.052646Z"
        },
        "trusted": true
      },
      "execution_count": null,
      "outputs": []
    },
    {
      "cell_type": "code",
      "source": [
        "for data in train_set:\n",
        "  print(data)\n",
        "  break"
      ],
      "metadata": {
        "colab": {
          "base_uri": "https://localhost:8080/"
        },
        "id": "8W9OAZoTu7-Y",
        "outputId": "2d5999b4-6a49-41de-b55f-6f69cc142e23",
        "execution": {
          "iopub.status.busy": "2023-06-30T07:55:32.391589Z",
          "iopub.execute_input": "2023-06-30T07:55:32.391992Z",
          "iopub.status.idle": "2023-06-30T07:55:32.419812Z",
          "shell.execute_reply.started": "2023-06-30T07:55:32.391955Z",
          "shell.execute_reply": "2023-06-30T07:55:32.418677Z"
        },
        "trusted": true
      },
      "execution_count": null,
      "outputs": [
        {
          "name": "stdout",
          "text": "[tensor([[[[0.0000, 0.0000, 0.0000,  ..., 0.0000, 0.0000, 0.0000],\n          [0.0000, 0.0000, 0.0000,  ..., 0.0000, 0.0000, 0.0000],\n          [0.0000, 0.0000, 0.0000,  ..., 0.0000, 0.0000, 0.0000],\n          ...,\n          [0.0000, 0.0000, 0.0000,  ..., 0.0000, 0.0000, 0.0000],\n          [0.0000, 0.0000, 0.0000,  ..., 0.0000, 0.0000, 0.0000],\n          [0.0000, 0.0000, 0.0000,  ..., 0.0000, 0.0000, 0.0000]]],\n\n\n        [[[0.0000, 0.0000, 0.0000,  ..., 0.0000, 0.0000, 0.0000],\n          [0.0000, 0.0000, 0.0000,  ..., 0.0000, 0.0000, 0.0000],\n          [0.0000, 0.0000, 0.0000,  ..., 0.0000, 0.0000, 0.0000],\n          ...,\n          [0.0000, 0.0000, 0.0000,  ..., 0.0000, 0.0000, 0.0000],\n          [0.0000, 0.0000, 0.0000,  ..., 0.0000, 0.0000, 0.0000],\n          [0.0000, 0.0000, 0.0000,  ..., 0.0000, 0.0000, 0.0000]]],\n\n\n        [[[0.0000, 0.0000, 0.0000,  ..., 0.0000, 0.0000, 0.0000],\n          [0.0000, 0.0000, 0.0000,  ..., 0.0000, 0.0000, 0.0000],\n          [0.0000, 0.0000, 0.0000,  ..., 0.0000, 0.0000, 0.0000],\n          ...,\n          [0.0000, 0.0000, 0.0000,  ..., 0.0000, 0.0000, 0.0000],\n          [0.0000, 0.0000, 0.0000,  ..., 0.0000, 0.0000, 0.0000],\n          [0.0000, 0.0000, 0.0000,  ..., 0.0000, 0.0000, 0.0000]]],\n\n\n        ...,\n\n\n        [[[0.0000, 0.0000, 0.0000,  ..., 0.0000, 0.0000, 0.0000],\n          [0.0000, 0.0000, 0.0000,  ..., 0.0000, 0.0000, 0.0000],\n          [0.0000, 0.0000, 0.0000,  ..., 0.0000, 0.0000, 0.0000],\n          ...,\n          [0.0000, 0.0000, 0.0000,  ..., 0.0000, 0.0000, 0.0000],\n          [0.0000, 0.0000, 0.0000,  ..., 0.0000, 0.0000, 0.0000],\n          [0.0000, 0.0000, 0.0000,  ..., 0.0000, 0.0000, 0.0000]]],\n\n\n        [[[0.0000, 0.0000, 0.0000,  ..., 0.0000, 0.0000, 0.0000],\n          [0.0000, 0.0000, 0.0000,  ..., 0.0000, 0.0000, 0.0000],\n          [0.0000, 0.0000, 0.0000,  ..., 0.0000, 0.0000, 0.0000],\n          ...,\n          [0.0000, 0.0000, 0.0000,  ..., 0.0000, 0.0000, 0.0000],\n          [0.0000, 0.0000, 0.0000,  ..., 0.0000, 0.0000, 0.0000],\n          [0.0000, 0.0000, 0.0000,  ..., 0.0000, 0.0000, 0.0000]]],\n\n\n        [[[0.0000, 0.0000, 0.0000,  ..., 0.0039, 0.0000, 0.0000],\n          [0.0000, 0.0000, 0.0000,  ..., 0.0039, 0.0000, 0.0000],\n          [0.0000, 0.0000, 0.0000,  ..., 0.0039, 0.0000, 0.0000],\n          ...,\n          [0.0000, 0.0000, 0.0000,  ..., 0.9373, 0.6196, 0.0000],\n          [0.0000, 0.0000, 0.0000,  ..., 0.8078, 0.2314, 0.0000],\n          [0.0000, 0.0000, 0.0000,  ..., 0.0000, 0.0000, 0.0000]]]]), tensor([5, 4, 5, 9, 3, 1, 4, 5, 7, 9, 5, 2, 7, 1, 8, 5, 3, 1, 5, 6, 0, 3, 6, 9,\n        7, 0, 2, 6, 7, 8, 4, 9, 8, 8, 0, 1, 5, 7, 3, 7, 9, 4, 3, 0, 8, 5, 5, 7,\n        5, 5, 7, 8, 3, 1, 7, 8, 8, 2, 4, 2, 9, 9, 2, 6])]\n",
          "output_type": "stream"
        }
      ]
    },
    {
      "cell_type": "code",
      "source": [
        "# Display image and label.\n",
        "train_features, train_labels = next(iter(train_set))\n",
        "print(train_features, train_labels)\n",
        "print(f\"Feature batch shape: {train_features.size()}\")\n",
        "print(f\"Labels batch shape: {train_labels.size()}\")\n",
        "img = train_features[1].squeeze()\n",
        "label = train_labels[1]\n",
        "print(img.size(), label)\n",
        "plt.imshow(img, cmap=\"gray\")\n",
        "plt.show()\n",
        "print(f\"Label: {label}\")"
      ],
      "metadata": {
        "colab": {
          "base_uri": "https://localhost:8080/",
          "height": 1000
        },
        "id": "-W6qZj03sm0u",
        "outputId": "04bcbdd0-4449-4da4-d960-96e5bbbe426e",
        "execution": {
          "iopub.status.busy": "2023-06-30T07:55:37.275752Z",
          "iopub.execute_input": "2023-06-30T07:55:37.276867Z",
          "iopub.status.idle": "2023-06-30T07:55:37.531556Z",
          "shell.execute_reply.started": "2023-06-30T07:55:37.276819Z",
          "shell.execute_reply": "2023-06-30T07:55:37.530581Z"
        },
        "trusted": true
      },
      "execution_count": null,
      "outputs": [
        {
          "name": "stdout",
          "text": "tensor([[[[0.0000, 0.0000, 0.0000,  ..., 0.0000, 0.0000, 0.0000],\n          [0.0000, 0.0000, 0.0000,  ..., 0.0000, 0.0000, 0.0000],\n          [0.0000, 0.0000, 0.0000,  ..., 0.0000, 0.0000, 0.0000],\n          ...,\n          [0.0000, 0.0000, 0.0000,  ..., 0.0000, 0.0000, 0.0000],\n          [0.0000, 0.0000, 0.0000,  ..., 0.0000, 0.0000, 0.0000],\n          [0.0000, 0.0000, 0.0000,  ..., 0.0000, 0.0000, 0.0000]]],\n\n\n        [[[0.0000, 0.0000, 0.0000,  ..., 0.0000, 0.0000, 0.0000],\n          [0.0000, 0.0000, 0.0000,  ..., 0.0000, 0.0000, 0.0000],\n          [0.0000, 0.0000, 0.0000,  ..., 0.0000, 0.0000, 0.0000],\n          ...,\n          [0.0000, 0.0000, 0.0000,  ..., 0.0000, 0.0000, 0.0000],\n          [0.0000, 0.0000, 0.0000,  ..., 0.0000, 0.0000, 0.0000],\n          [0.0000, 0.0000, 0.0000,  ..., 0.0000, 0.0000, 0.0000]]],\n\n\n        [[[0.0000, 0.0000, 0.0000,  ..., 0.0000, 0.0000, 0.0000],\n          [0.0000, 0.0000, 0.0000,  ..., 0.0000, 0.0000, 0.0000],\n          [0.0000, 0.0000, 0.0000,  ..., 0.0000, 0.0000, 0.0000],\n          ...,\n          [0.0000, 0.0000, 0.0000,  ..., 0.0000, 0.0000, 0.0000],\n          [0.0000, 0.0000, 0.0000,  ..., 0.0000, 0.0000, 0.0000],\n          [0.0000, 0.0000, 0.0000,  ..., 0.0000, 0.0000, 0.0000]]],\n\n\n        ...,\n\n\n        [[[0.0000, 0.0000, 0.0039,  ..., 0.0000, 0.0000, 0.0000],\n          [0.0000, 0.0000, 0.0039,  ..., 0.0000, 0.0000, 0.0000],\n          [0.0000, 0.0000, 0.0000,  ..., 0.0039, 0.0000, 0.0000],\n          ...,\n          [0.0000, 0.0000, 0.0000,  ..., 0.0000, 0.0000, 0.0000],\n          [0.0000, 0.0000, 0.0000,  ..., 0.0000, 0.0000, 0.0000],\n          [0.0000, 0.0000, 0.0000,  ..., 0.0000, 0.0000, 0.0000]]],\n\n\n        [[[0.0000, 0.0000, 0.0000,  ..., 0.0000, 0.0000, 0.0000],\n          [0.0000, 0.0000, 0.0000,  ..., 0.0000, 0.0000, 0.0000],\n          [0.0000, 0.0000, 0.0000,  ..., 0.0000, 0.0000, 0.0000],\n          ...,\n          [0.0000, 0.0000, 0.0000,  ..., 0.0000, 0.0000, 0.0000],\n          [0.0000, 0.0000, 0.0000,  ..., 0.0000, 0.0000, 0.0000],\n          [0.0000, 0.0000, 0.0000,  ..., 0.0000, 0.0000, 0.0000]]],\n\n\n        [[[0.0000, 0.0000, 0.0000,  ..., 0.0000, 0.0000, 0.0000],\n          [0.0000, 0.0000, 0.0000,  ..., 0.0000, 0.0000, 0.0000],\n          [0.0000, 0.0000, 0.0000,  ..., 0.0000, 0.0000, 0.0000],\n          ...,\n          [0.0000, 0.0000, 0.0000,  ..., 0.6118, 0.0000, 0.0000],\n          [0.0000, 0.0000, 0.0000,  ..., 0.7529, 0.0000, 0.0000],\n          [0.0000, 0.0000, 0.0000,  ..., 0.4784, 0.0000, 0.0000]]]]) tensor([4, 1, 8, 0, 3, 9, 1, 3, 5, 8, 7, 9, 1, 1, 7, 7, 3, 9, 7, 0, 4, 8, 7, 7,\n        6, 1, 0, 1, 7, 9, 7, 3, 9, 0, 6, 6, 0, 3, 7, 6, 5, 8, 0, 7, 6, 5, 1, 2,\n        6, 5, 0, 8, 2, 4, 5, 0, 9, 2, 2, 5, 8, 0, 4, 4])\nFeature batch shape: torch.Size([64, 1, 28, 28])\nLabels batch shape: torch.Size([64])\ntorch.Size([28, 28]) tensor(1)\n",
          "output_type": "stream"
        },
        {
          "output_type": "display_data",
          "data": {
            "text/plain": "<Figure size 432x288 with 1 Axes>",
            "image/png": "[encoded data removed]"
          },
          "metadata": {}
        },
        {
          "name": "stdout",
          "text": "Label: 1\n",
          "output_type": "stream"
        }
      ]
    },
    {
      "cell_type": "code",
      "source": [
        "# Get cpu, gpu or mps device for training.\n",
        "device = (\n",
        "    \"cuda\"\n",
        "    if torch.cuda.is_available()\n",
        "    else \"mps\"\n",
        "    if torch.backends.mps.is_available()\n",
        "    else \"cpu\"\n",
        ")\n",
        "print(f\"Using {device} device\")"
      ],
      "metadata": {
        "id": "M1wDmBsCtV5J",
        "colab": {
          "base_uri": "https://localhost:8080/"
        },
        "outputId": "892f920c-6b85-4139-b753-2357c257cb6b",
        "execution": {
          "iopub.status.busy": "2023-06-30T07:55:41.542056Z",
          "iopub.execute_input": "2023-06-30T07:55:41.542745Z",
          "iopub.status.idle": "2023-06-30T07:55:41.549875Z",
          "shell.execute_reply.started": "2023-06-30T07:55:41.542704Z",
          "shell.execute_reply": "2023-06-30T07:55:41.548708Z"
        },
        "trusted": true
      },
      "execution_count": null,
      "outputs": [
        {
          "name": "stdout",
          "text": "Using cuda device\n",
          "output_type": "stream"
        }
      ]
    },
    {
      "cell_type": "code",
      "source": [
        "class NeuralNetwork(nn.Module):\n",
        "    def __init__(self):\n",
        "        super().__init__()\n",
        "        self.flatten = nn.Flatten()\n",
        "        self.linear_relu_stack = nn.Sequential(\n",
        "            nn.Linear(28*28, 512),\n",
        "            nn.ReLU(),\n",
        "            nn.Linear(512, 256),\n",
        "            nn.ReLU(),\n",
        "            nn.Linear(256, 10)\n",
        "        )\n",
        "\n",
        "    def forward(self, x):\n",
        "        x = self.flatten(x)\n",
        "        logits = self.linear_relu_stack(x)\n",
        "        return logits\n",
        "\n",
        "model = NeuralNetwork().to(device)\n",
        "print(model)"
      ],
      "metadata": {
        "colab": {
          "base_uri": "https://localhost:8080/"
        },
        "id": "HIP0CD7QpD1W",
        "outputId": "330fb2c8-5916-48c6-8383-7e2b70bcb60e",
        "execution": {
          "iopub.status.busy": "2023-06-30T07:56:55.421921Z",
          "iopub.execute_input": "2023-06-30T07:56:55.423296Z",
          "iopub.status.idle": "2023-06-30T07:57:01.292420Z",
          "shell.execute_reply.started": "2023-06-30T07:56:55.423238Z",
          "shell.execute_reply": "2023-06-30T07:57:01.291300Z"
        },
        "trusted": true
      },
      "execution_count": null,
      "outputs": [
        {
          "name": "stdout",
          "text": "NeuralNetwork(\n  (flatten): Flatten(start_dim=1, end_dim=-1)\n  (linear_relu_stack): Sequential(\n    (0): Linear(in_features=784, out_features=512, bias=True)\n    (1): ReLU()\n    (2): Linear(in_features=512, out_features=256, bias=True)\n    (3): ReLU()\n    (4): Linear(in_features=256, out_features=10, bias=True)\n  )\n)\n",
          "output_type": "stream"
        }
      ]
    },
    {
      "cell_type": "code",
      "source": [
        "loss_fn = nn.CrossEntropyLoss()\n",
        "optimizer = torch.optim.Adam(model.parameters(), lr = 1e-3, weight_decay = 0.001)"
      ],
      "metadata": {
        "id": "ToFwW-jysgxl",
        "execution": {
          "iopub.status.busy": "2023-06-30T07:57:40.797574Z",
          "iopub.execute_input": "2023-06-30T07:57:40.797988Z",
          "iopub.status.idle": "2023-06-30T07:57:40.804243Z",
          "shell.execute_reply.started": "2023-06-30T07:57:40.797951Z",
          "shell.execute_reply": "2023-06-30T07:57:40.802946Z"
        },
        "trusted": true
      },
      "execution_count": null,
      "outputs": []
    },
    {
      "cell_type": "code",
      "source": [
        "def train(dataloader, model, loss_fn, optimizer):\n",
        "    size = len(dataloader.dataset)\n",
        "    model.train()\n",
        "    for batch, (X, y) in enumerate(dataloader):\n",
        "        X, y = X.to(device), y.to(device)\n",
        "\n",
        "        # Compute prediction error\n",
        "        pred = model(X)\n",
        "        loss = loss_fn(pred, y)\n",
        "\n",
        "        # Backpropagation\n",
        "        loss.backward()\n",
        "        optimizer.step()\n",
        "        optimizer.zero_grad()\n",
        "\n",
        "        if batch % 100 == 0:\n",
        "            loss, current = loss.item(), (batch + 1) * len(X)\n",
        "            print(f\"loss: {loss:>7f}  [{current:>5d}/{size:>5d}]\")"
      ],
      "metadata": {
        "id": "XP9CnpgouDF6",
        "execution": {
          "iopub.status.busy": "2023-06-30T07:57:55.060180Z",
          "iopub.execute_input": "2023-06-30T07:57:55.060939Z",
          "iopub.status.idle": "2023-06-30T07:57:55.069515Z",
          "shell.execute_reply.started": "2023-06-30T07:57:55.060891Z",
          "shell.execute_reply": "2023-06-30T07:57:55.068474Z"
        },
        "trusted": true
      },
      "execution_count": null,
      "outputs": []
    },
    {
      "cell_type": "code",
      "source": [
        "def test(dataloader, model, loss_fn):\n",
        "    size = len(dataloader.dataset)\n",
        "    num_batches = len(dataloader)\n",
        "    model.eval()\n",
        "    test_loss, correct = 0, 0\n",
        "    with torch.no_grad():\n",
        "        for X, y in dataloader:\n",
        "            X, y = X.to(device), y.to(device)\n",
        "            pred = model(X)\n",
        "            test_loss += loss_fn(pred, y).item()\n",
        "            correct += (pred.argmax(1) == y).type(torch.float).sum().item()\n",
        "    test_loss /= num_batches\n",
        "    correct /= size\n",
        "    print(f\"Test Error: \\n Accuracy: {(100*correct):>0.1f}%, Avg loss: {test_loss:>8f} \\n\")"
      ],
      "metadata": {
        "id": "cEp_ioV_wsad",
        "execution": {
          "iopub.status.busy": "2023-06-30T07:57:58.033523Z",
          "iopub.execute_input": "2023-06-30T07:57:58.034385Z",
          "iopub.status.idle": "2023-06-30T07:57:58.042598Z",
          "shell.execute_reply.started": "2023-06-30T07:57:58.034339Z",
          "shell.execute_reply": "2023-06-30T07:57:58.041393Z"
        },
        "trusted": true
      },
      "execution_count": null,
      "outputs": []
    },
    {
      "cell_type": "code",
      "source": [
        "epochs = 16\n",
        "for t in range(epochs):\n",
        "    print(f\"Epoch {t+1}\\n-------------------------------\")\n",
        "    train(train_set, model, loss_fn, optimizer)\n",
        "    test(test_set, model, loss_fn)\n",
        "print(\"Done!\")"
      ],
      "metadata": {
        "colab": {
          "base_uri": "https://localhost:8080/"
        },
        "id": "yaxi29u9yXtQ",
        "outputId": "ff7e9143-70f5-4bc5-c3f6-f40e939c7365",
        "execution": {
          "iopub.status.busy": "2023-06-30T07:58:56.088723Z",
          "iopub.execute_input": "2023-06-30T07:58:56.089510Z",
          "iopub.status.idle": "2023-06-30T08:01:18.253126Z",
          "shell.execute_reply.started": "2023-06-30T07:58:56.089463Z",
          "shell.execute_reply": "2023-06-30T08:01:18.252045Z"
        },
        "trusted": true
      },
      "execution_count": null,
      "outputs": [
        {
          "name": "stdout",
          "text": "Epoch 1\n-------------------------------\nloss: 0.285546  [   64/60000]\nloss: 0.299978  [ 6464/60000]\nloss: 0.435477  [12864/60000]\nloss: 0.385651  [19264/60000]\nloss: 0.439349  [25664/60000]\nloss: 0.278829  [32064/60000]\nloss: 0.251443  [38464/60000]\nloss: 0.320953  [44864/60000]\nloss: 0.180937  [51264/60000]\nloss: 0.307999  [57664/60000]\nTest Error: \n Accuracy: 86.4%, Avg loss: 0.364828 \n\nEpoch 2\n-------------------------------\nloss: 0.315677  [   64/60000]\nloss: 0.369442  [ 6464/60000]\nloss: 0.256030  [12864/60000]\nloss: 0.410295  [19264/60000]\nloss: 0.211278  [25664/60000]\nloss: 0.270358  [32064/60000]\nloss: 0.210384  [38464/60000]\nloss: 0.237813  [44864/60000]\nloss: 0.465143  [51264/60000]\nloss: 0.425135  [57664/60000]\nTest Error: \n Accuracy: 85.1%, Avg loss: 0.414830 \n\nEpoch 3\n-------------------------------\nloss: 0.375374  [   64/60000]\nloss: 0.182924  [ 6464/60000]\nloss: 0.234241  [12864/60000]\nloss: 0.411954  [19264/60000]\nloss: 0.180889  [25664/60000]\nloss: 0.297654  [32064/60000]\nloss: 0.481083  [38464/60000]\nloss: 0.297355  [44864/60000]\nloss: 0.283535  [51264/60000]\nloss: 0.413761  [57664/60000]\nTest Error: \n Accuracy: 86.9%, Avg loss: 0.364419 \n\nEpoch 4\n-------------------------------\nloss: 0.291742  [   64/60000]\nloss: 0.317118  [ 6464/60000]\nloss: 0.522515  [12864/60000]\nloss: 0.246429  [19264/60000]\nloss: 0.241800  [25664/60000]\nloss: 0.280929  [32064/60000]\nloss: 0.356021  [38464/60000]\nloss: 0.477199  [44864/60000]\nloss: 0.212795  [51264/60000]\nloss: 0.453755  [57664/60000]\nTest Error: \n Accuracy: 86.1%, Avg loss: 0.378147 \n\nEpoch 5\n-------------------------------\nloss: 0.259270  [   64/60000]\nloss: 0.219571  [ 6464/60000]\nloss: 0.450244  [12864/60000]\nloss: 0.233817  [19264/60000]\nloss: 0.314236  [25664/60000]\nloss: 0.241401  [32064/60000]\nloss: 0.351734  [38464/60000]\nloss: 0.307193  [44864/60000]\nloss: 0.217023  [51264/60000]\nloss: 0.346404  [57664/60000]\nTest Error: \n Accuracy: 86.7%, Avg loss: 0.368474 \n\nEpoch 6\n-------------------------------\nloss: 0.396202  [   64/60000]\nloss: 0.323823  [ 6464/60000]\nloss: 0.225630  [12864/60000]\nloss: 0.385767  [19264/60000]\nloss: 0.249603  [25664/60000]\nloss: 0.234284  [32064/60000]\nloss: 0.402751  [38464/60000]\nloss: 0.372382  [44864/60000]\nloss: 0.373101  [51264/60000]\nloss: 0.291254  [57664/60000]\nTest Error: \n Accuracy: 87.5%, Avg loss: 0.345177 \n\nEpoch 7\n-------------------------------\nloss: 0.269501  [   64/60000]\nloss: 0.392758  [ 6464/60000]\nloss: 0.464600  [12864/60000]\nloss: 0.292455  [19264/60000]\nloss: 0.235778  [25664/60000]\nloss: 0.261857  [32064/60000]\nloss: 0.286186  [38464/60000]\nloss: 0.297627  [44864/60000]\nloss: 0.285814  [51264/60000]\nloss: 0.268341  [57664/60000]\nTest Error: \n Accuracy: 86.6%, Avg loss: 0.373018 \n\nEpoch 8\n-------------------------------\nloss: 0.265388  [   64/60000]\nloss: 0.324734  [ 6464/60000]\nloss: 0.444555  [12864/60000]\nloss: 0.273162  [19264/60000]\nloss: 0.310125  [25664/60000]\nloss: 0.316587  [32064/60000]\nloss: 0.356774  [38464/60000]\nloss: 0.473676  [44864/60000]\nloss: 0.314918  [51264/60000]\nloss: 0.394687  [57664/60000]\nTest Error: \n Accuracy: 87.5%, Avg loss: 0.350418 \n\nEpoch 9\n-------------------------------\nloss: 0.365733  [   64/60000]\nloss: 0.259869  [ 6464/60000]\nloss: 0.261711  [12864/60000]\nloss: 0.312432  [19264/60000]\nloss: 0.196401  [25664/60000]\nloss: 0.335724  [32064/60000]\nloss: 0.245403  [38464/60000]\nloss: 0.350402  [44864/60000]\nloss: 0.233771  [51264/60000]\nloss: 0.203510  [57664/60000]\nTest Error: \n Accuracy: 86.2%, Avg loss: 0.365742 \n\nEpoch 10\n-------------------------------\nloss: 0.384867  [   64/60000]\nloss: 0.304406  [ 6464/60000]\nloss: 0.314847  [12864/60000]\nloss: 0.415541  [19264/60000]\nloss: 0.203489  [25664/60000]\nloss: 0.353803  [32064/60000]\nloss: 0.271663  [38464/60000]\nloss: 0.433067  [44864/60000]\nloss: 0.261726  [51264/60000]\nloss: 0.401875  [57664/60000]\nTest Error: \n Accuracy: 87.2%, Avg loss: 0.352950 \n\nEpoch 11\n-------------------------------\nloss: 0.331118  [   64/60000]\nloss: 0.171466  [ 6464/60000]\nloss: 0.291614  [12864/60000]\nloss: 0.283449  [19264/60000]\nloss: 0.109712  [25664/60000]\nloss: 0.284087  [32064/60000]\nloss: 0.258047  [38464/60000]\nloss: 0.329519  [44864/60000]\nloss: 0.273043  [51264/60000]\nloss: 0.381002  [57664/60000]\nTest Error: \n Accuracy: 87.2%, Avg loss: 0.353078 \n\nEpoch 12\n-------------------------------\nloss: 0.310445  [   64/60000]\nloss: 0.404831  [ 6464/60000]\nloss: 0.231323  [12864/60000]\nloss: 0.221776  [19264/60000]\nloss: 0.295474  [25664/60000]\nloss: 0.208846  [32064/60000]\nloss: 0.229713  [38464/60000]\nloss: 0.376401  [44864/60000]\nloss: 0.254307  [51264/60000]\nloss: 0.245163  [57664/60000]\nTest Error: \n Accuracy: 87.4%, Avg loss: 0.351385 \n\nEpoch 13\n-------------------------------\nloss: 0.327059  [   64/60000]\nloss: 0.176234  [ 6464/60000]\nloss: 0.344576  [12864/60000]\nloss: 0.332432  [19264/60000]\nloss: 0.308681  [25664/60000]\nloss: 0.295642  [32064/60000]\nloss: 0.171428  [38464/60000]\nloss: 0.249112  [44864/60000]\nloss: 0.367462  [51264/60000]\nloss: 0.248957  [57664/60000]\nTest Error: \n Accuracy: 87.1%, Avg loss: 0.352548 \n\nEpoch 14\n-------------------------------\nloss: 0.168162  [   64/60000]\nloss: 0.246269  [ 6464/60000]\nloss: 0.249828  [12864/60000]\nloss: 0.309524  [19264/60000]\nloss: 0.328808  [25664/60000]\nloss: 0.263004  [32064/60000]\nloss: 0.248503  [38464/60000]\nloss: 0.278397  [44864/60000]\nloss: 0.210891  [51264/60000]\nloss: 0.304731  [57664/60000]\nTest Error: \n Accuracy: 87.4%, Avg loss: 0.351371 \n\nEpoch 15\n-------------------------------\nloss: 0.226605  [   64/60000]\nloss: 0.278623  [ 6464/60000]\nloss: 0.194458  [12864/60000]\nloss: 0.315981  [19264/60000]\nloss: 0.155452  [25664/60000]\nloss: 0.278143  [32064/60000]\nloss: 0.335290  [38464/60000]\nloss: 0.303001  [44864/60000]\nloss: 0.452035  [51264/60000]\nloss: 0.357531  [57664/60000]\nTest Error: \n Accuracy: 87.4%, Avg loss: 0.361646 \n\nEpoch 16\n-------------------------------\nloss: 0.192588  [   64/60000]\nloss: 0.173997  [ 6464/60000]\nloss: 0.263481  [12864/60000]\nloss: 0.337233  [19264/60000]\nloss: 0.204672  [25664/60000]\nloss: 0.309040  [32064/60000]\nloss: 0.373997  [38464/60000]\nloss: 0.268879  [44864/60000]\nloss: 0.494724  [51264/60000]\nloss: 0.254786  [57664/60000]\nTest Error: \n Accuracy: 87.6%, Avg loss: 0.347707 \n\nDone!\n",
          "output_type": "stream"
        }
      ]
    },
    {
      "cell_type": "code",
      "source": [
        "classes = [\n",
        "    \"T-shirt/top\",\n",
        "    \"Trouser\",\n",
        "    \"Pullover\",\n",
        "    \"Dress\",\n",
        "    \"Coat\",\n",
        "    \"Sandal\",\n",
        "    \"Shirt\",\n",
        "    \"Sneaker\",\n",
        "    \"Bag\",\n",
        "    \"Ankle boot\",\n",
        "]\n",
        "\n",
        "model.eval().cpu()\n",
        "incorrect = 0;\n",
        "total = 0;\n",
        "\n",
        "with torch.no_grad():\n",
        "    for x,y in enumerate(test_data):\n",
        "\n",
        "        pred = model(y[0]).squeeze()\n",
        "        predicted, actual = classes[pred.argmax(0)], classes[y[1]]\n",
        "        if(predicted != actual):\n",
        "            incorrect += 1;\n",
        "print(f\"Wrong Predictions : {incorrect} out of {x+1}\")"
      ],
      "metadata": {
        "colab": {
          "base_uri": "https://localhost:8080/"
        },
        "id": "S2pI7RllyvZo",
        "outputId": "c962642a-199b-4708-802e-c26d07f3b845",
        "execution": {
          "iopub.status.busy": "2023-06-30T08:17:03.844253Z",
          "iopub.execute_input": "2023-06-30T08:17:03.845052Z",
          "iopub.status.idle": "2023-06-30T08:17:08.864545Z",
          "shell.execute_reply.started": "2023-06-30T08:17:03.845010Z",
          "shell.execute_reply": "2023-06-30T08:17:08.863391Z"
        },
        "trusted": true
      },
      "execution_count": null,
      "outputs": [
        {
          "name": "stdout",
          "text": "Wrong Predictions : 1244 out of 10000\n",
          "output_type": "stream"
        }
      ]
    },
    {
      "cell_type": "code",
      "source": [],
      "metadata": {
        "id": "N0gFQwjV1FP4"
      },
      "execution_count": null,
      "outputs": []
    }
  ]
}